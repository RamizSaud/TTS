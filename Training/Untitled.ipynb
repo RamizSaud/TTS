{
 "cells": [
  {
   "cell_type": "code",
   "execution_count": 3,
   "id": "cb2f36af-7da4-4bf4-8646-ce3bc0863c2a",
   "metadata": {},
   "outputs": [
    {
     "name": "stdout",
     "output_type": "stream",
     "text": [
      "The sampling rate is: 22050 Hz\n"
     ]
    }
   ],
   "source": [
    "from scipy.io import wavfile\n",
    "\n",
    "# Read the WAV file\n",
    "sample_rate, data = wavfile.read('wavs/_4UZ5XpNvYA&list___0__7.wav')\n",
    "print(f\"The sampling rate is: {sample_rate} Hz\")"
   ]
  },
  {
   "cell_type": "code",
   "execution_count": 5,
   "id": "24d10fdf-8991-4cde-a67b-0ad0161d379e",
   "metadata": {},
   "outputs": [],
   "source": [
    "import os"
   ]
  },
  {
   "cell_type": "code",
   "execution_count": 11,
   "id": "641b7012-df84-4266-b8be-ab6010d45d8a",
   "metadata": {},
   "outputs": [
    {
     "name": "stdout",
     "output_type": "stream",
     "text": [
      "wavs/02jSJVzkUyM&list___3360__3367.wav\n",
      "wavs/02jSJVzkUyM&list___3367__3374.wav\n",
      "wavs/02jSJVzkUyM&list___336__343.wav\n",
      "wavs/02jSJVzkUyM&list___3374__3381.wav\n",
      "wavs/02jSJVzkUyM&list___3381__3388.wav\n",
      "wavs/02jSJVzkUyM&list___3388__3395.wav\n",
      "wavs/02jSJVzkUyM&list___3395__3402.wav\n"
     ]
    }
   ],
   "source": [
    "for file_name in os.listdir('wavs')[2333:2340]:\n",
    "    path = 'wavs/'+file_name\n",
    "    print(path)"
   ]
  },
  {
   "cell_type": "code",
   "execution_count": 16,
   "id": "1ef04785-8e95-4500-89c9-969e0fab73ee",
   "metadata": {},
   "outputs": [
    {
     "name": "stdout",
     "output_type": "stream",
     "text": [
      "1000\n",
      "2000\n",
      "File Deleted Count: 1\n",
      "3000\n",
      "4000\n",
      "5000\n",
      "6000\n",
      "7000\n",
      "8000\n",
      "9000\n",
      "10000\n",
      "11000\n",
      "12000\n",
      "13000\n",
      "14000\n",
      "15000\n",
      "16000\n",
      "17000\n",
      "18000\n",
      "19000\n",
      "20000\n",
      "21000\n",
      "22000\n",
      "23000\n",
      "24000\n",
      "25000\n",
      "26000\n",
      "27000\n",
      "28000\n",
      "29000\n",
      "30000\n",
      "31000\n",
      "32000\n",
      "33000\n",
      "34000\n",
      "35000\n",
      "36000\n",
      "37000\n",
      "38000\n",
      "39000\n",
      "40000\n",
      "41000\n",
      "42000\n",
      "43000\n",
      "44000\n",
      "45000\n",
      "46000\n",
      "47000\n",
      "48000\n",
      "49000\n",
      "50000\n",
      "51000\n",
      "52000\n",
      "53000\n",
      "54000\n",
      "55000\n",
      "56000\n",
      "57000\n",
      "58000\n",
      "59000\n",
      "60000\n",
      "61000\n",
      "62000\n",
      "63000\n",
      "64000\n",
      "65000\n",
      "66000\n",
      "67000\n",
      "68000\n",
      "69000\n",
      "70000\n",
      "71000\n",
      "72000\n",
      "73000\n",
      "74000\n",
      "75000\n",
      "76000\n",
      "77000\n",
      "78000\n",
      "79000\n",
      "80000\n",
      "81000\n",
      "82000\n",
      "83000\n",
      "84000\n",
      "85000\n",
      "86000\n",
      "87000\n",
      "88000\n",
      "89000\n",
      "90000\n",
      "91000\n",
      "92000\n",
      "93000\n",
      "94000\n",
      "95000\n",
      "96000\n",
      "97000\n",
      "98000\n",
      "99000\n",
      "100000\n",
      "101000\n",
      "102000\n",
      "103000\n",
      "104000\n",
      "105000\n",
      "106000\n",
      "107000\n",
      "108000\n",
      "109000\n",
      "110000\n",
      "111000\n",
      "112000\n",
      "113000\n",
      "114000\n"
     ]
    }
   ],
   "source": [
    "from pydub import AudioSegment\n",
    "counter = 0\n",
    "files_deleted = 0\n",
    "for file_name in os.listdir('wavs'):\n",
    "    path = 'wavs/'+file_name\n",
    "\n",
    "    try:\n",
    "        # Load your stereo audio file\n",
    "        stereo_audio = AudioSegment.from_wav(path)\n",
    "        \n",
    "        # Convert to mono by averaging the channels\n",
    "        mono_audio = stereo_audio.set_channels(1)\n",
    "        \n",
    "        # Export the mono audio to a new WAV file\n",
    "        mono_audio.export(path, format=\"wav\")\n",
    "        \n",
    "        counter+=1\n",
    "        if counter%1000==0:\n",
    "            print(counter)\n",
    "    except:\n",
    "        os.remove(path)\n",
    "        files_deleted+=1\n",
    "        print(\"File Deleted Count:\",files_deleted)"
   ]
  },
  {
   "cell_type": "code",
   "execution_count": 1,
   "id": "ab62f2da-1c1b-4005-83cb-234646b092c8",
   "metadata": {},
   "outputs": [],
   "source": [
    "import pandas as pd"
   ]
  },
  {
   "cell_type": "code",
   "execution_count": 4,
   "id": "92f1a0c2-7f58-4f88-8bba-3d072ecb6bfb",
   "metadata": {},
   "outputs": [],
   "source": [
    "df = pd.read_csv('filelists/metadata_final.txt',sep='|',header=None)"
   ]
  },
  {
   "cell_type": "code",
   "execution_count": 5,
   "id": "9519852e-c047-40cb-9cd0-853c629455bb",
   "metadata": {},
   "outputs": [
    {
     "data": {
      "text/html": [
       "<div>\n",
       "<style scoped>\n",
       "    .dataframe tbody tr th:only-of-type {\n",
       "        vertical-align: middle;\n",
       "    }\n",
       "\n",
       "    .dataframe tbody tr th {\n",
       "        vertical-align: top;\n",
       "    }\n",
       "\n",
       "    .dataframe thead th {\n",
       "        text-align: right;\n",
       "    }\n",
       "</style>\n",
       "<table border=\"1\" class=\"dataframe\">\n",
       "  <thead>\n",
       "    <tr style=\"text-align: right;\">\n",
       "      <th></th>\n",
       "      <th>0</th>\n",
       "      <th>1</th>\n",
       "    </tr>\n",
       "  </thead>\n",
       "  <tbody>\n",
       "    <tr>\n",
       "      <th>0</th>\n",
       "      <td>wavs/fYocNaRmmDE&amp;list___0__7.wav</td>\n",
       "      <td>alsalam alaikum</td>\n",
       "    </tr>\n",
       "    <tr>\n",
       "      <th>1</th>\n",
       "      <td>wavs/fYocNaRmmDE&amp;list___1001__1008.wav</td>\n",
       "      <td>chhat wazeh hui yeh vahi chhat thi jo is ne pi...</td>\n",
       "    </tr>\n",
       "    <tr>\n",
       "      <th>2</th>\n",
       "      <td>wavs/fYocNaRmmDE&amp;list___1008__1015.wav</td>\n",
       "      <td>lekin tab woh safed thi ab woh mustard rangi t...</td>\n",
       "    </tr>\n",
       "    <tr>\n",
       "      <th>3</th>\n",
       "      <td>wavs/fYocNaRmmDE&amp;list___1015__1022.wav</td>\n",
       "      <td>vahi commrah tha lekin dewaron ka rang sarmie ...</td>\n",
       "    </tr>\n",
       "    <tr>\n",
       "      <th>4</th>\n",
       "      <td>wavs/fYocNaRmmDE&amp;list___1022__1029.wav</td>\n",
       "      <td>is ke hath se jadi naliyon main safed nahin ba...</td>\n",
       "    </tr>\n",
       "    <tr>\n",
       "      <th>...</th>\n",
       "      <td>...</td>\n",
       "      <td>...</td>\n",
       "    </tr>\n",
       "    <tr>\n",
       "      <th>115654</th>\n",
       "      <td>wavs/g-ZcuW4JOnE&amp;list___973__980.wav</td>\n",
       "      <td>bharosah tha woh sanbhal lay ga is lamhay khai...</td>\n",
       "    </tr>\n",
       "    <tr>\n",
       "      <th>115655</th>\n",
       "      <td>wavs/g-ZcuW4JOnE&amp;list___980__987.wav</td>\n",
       "      <td>ek sath aisi hai jas main har baat gunaah nahi...</td>\n",
       "    </tr>\n",
       "    <tr>\n",
       "      <th>115656</th>\n",
       "      <td>wavs/g-ZcuW4JOnE&amp;list___987__994.wav</td>\n",
       "      <td>diktar qasim ne apni kursi se uth kar khushdil...</td>\n",
       "    </tr>\n",
       "    <tr>\n",
       "      <th>115657</th>\n",
       "      <td>wavs/g-ZcuW4JOnE&amp;list___98__105.wav</td>\n",
       "      <td>jakday bethi rahi sab tareef is allah ki jas n...</td>\n",
       "    </tr>\n",
       "    <tr>\n",
       "      <th>115658</th>\n",
       "      <td>wavs/g-ZcuW4JOnE&amp;list___994__1001.wav</td>\n",
       "      <td>bhara sweater pahne chehray pah sanjida aur ba...</td>\n",
       "    </tr>\n",
       "  </tbody>\n",
       "</table>\n",
       "<p>115659 rows × 2 columns</p>\n",
       "</div>"
      ],
      "text/plain": [
       "                                             0  \\\n",
       "0             wavs/fYocNaRmmDE&list___0__7.wav   \n",
       "1       wavs/fYocNaRmmDE&list___1001__1008.wav   \n",
       "2       wavs/fYocNaRmmDE&list___1008__1015.wav   \n",
       "3       wavs/fYocNaRmmDE&list___1015__1022.wav   \n",
       "4       wavs/fYocNaRmmDE&list___1022__1029.wav   \n",
       "...                                        ...   \n",
       "115654    wavs/g-ZcuW4JOnE&list___973__980.wav   \n",
       "115655    wavs/g-ZcuW4JOnE&list___980__987.wav   \n",
       "115656    wavs/g-ZcuW4JOnE&list___987__994.wav   \n",
       "115657     wavs/g-ZcuW4JOnE&list___98__105.wav   \n",
       "115658   wavs/g-ZcuW4JOnE&list___994__1001.wav   \n",
       "\n",
       "                                                        1  \n",
       "0                                         alsalam alaikum  \n",
       "1       chhat wazeh hui yeh vahi chhat thi jo is ne pi...  \n",
       "2       lekin tab woh safed thi ab woh mustard rangi t...  \n",
       "3       vahi commrah tha lekin dewaron ka rang sarmie ...  \n",
       "4       is ke hath se jadi naliyon main safed nahin ba...  \n",
       "...                                                   ...  \n",
       "115654  bharosah tha woh sanbhal lay ga is lamhay khai...  \n",
       "115655  ek sath aisi hai jas main har baat gunaah nahi...  \n",
       "115656  diktar qasim ne apni kursi se uth kar khushdil...  \n",
       "115657  jakday bethi rahi sab tareef is allah ki jas n...  \n",
       "115658  bhara sweater pahne chehray pah sanjida aur ba...  \n",
       "\n",
       "[115659 rows x 2 columns]"
      ]
     },
     "execution_count": 5,
     "metadata": {},
     "output_type": "execute_result"
    }
   ],
   "source": [
    "df"
   ]
  },
  {
   "cell_type": "code",
   "execution_count": 16,
   "id": "ab913173-82b7-42a2-b79b-9bbba1c4166b",
   "metadata": {},
   "outputs": [
    {
     "data": {
      "text/plain": [
       "'wavs/fYocNaRmmDE&list___0__7.npy'"
      ]
     },
     "execution_count": 16,
     "metadata": {},
     "output_type": "execute_result"
    }
   ],
   "source": [
    "'.'.join(df[0][0].split('.')[:-1]+['npy'])"
   ]
  },
  {
   "cell_type": "code",
   "execution_count": 10,
   "id": "8a9bf742-c9b2-4fd1-8404-7bef02531aef",
   "metadata": {},
   "outputs": [
    {
     "data": {
      "text/plain": [
       "'wavs/fYocNaRmmDE&list___0__7.wav'"
      ]
     },
     "execution_count": 10,
     "metadata": {},
     "output_type": "execute_result"
    }
   ],
   "source": [
    "df[0][0]"
   ]
  },
  {
   "cell_type": "code",
   "execution_count": 17,
   "id": "79ccf26e-110f-4fb7-b896-f4d24deba351",
   "metadata": {},
   "outputs": [],
   "source": [
    "def change_format(path):\n",
    "    return '.'.join(path.split('.')[:-1]+['npy'])"
   ]
  },
  {
   "cell_type": "code",
   "execution_count": 18,
   "id": "715e91d8-d126-4a86-8613-bc48c623fc51",
   "metadata": {},
   "outputs": [],
   "source": [
    "df[0] = df[0].apply(change_format)"
   ]
  },
  {
   "cell_type": "code",
   "execution_count": 19,
   "id": "f62676e9-c2ad-4db7-a6ce-a6478eeb7161",
   "metadata": {},
   "outputs": [
    {
     "data": {
      "text/html": [
       "<div>\n",
       "<style scoped>\n",
       "    .dataframe tbody tr th:only-of-type {\n",
       "        vertical-align: middle;\n",
       "    }\n",
       "\n",
       "    .dataframe tbody tr th {\n",
       "        vertical-align: top;\n",
       "    }\n",
       "\n",
       "    .dataframe thead th {\n",
       "        text-align: right;\n",
       "    }\n",
       "</style>\n",
       "<table border=\"1\" class=\"dataframe\">\n",
       "  <thead>\n",
       "    <tr style=\"text-align: right;\">\n",
       "      <th></th>\n",
       "      <th>0</th>\n",
       "      <th>1</th>\n",
       "    </tr>\n",
       "  </thead>\n",
       "  <tbody>\n",
       "    <tr>\n",
       "      <th>0</th>\n",
       "      <td>wavs/fYocNaRmmDE&amp;list___0__7.npy</td>\n",
       "      <td>alsalam alaikum</td>\n",
       "    </tr>\n",
       "    <tr>\n",
       "      <th>1</th>\n",
       "      <td>wavs/fYocNaRmmDE&amp;list___1001__1008.npy</td>\n",
       "      <td>chhat wazeh hui yeh vahi chhat thi jo is ne pi...</td>\n",
       "    </tr>\n",
       "    <tr>\n",
       "      <th>2</th>\n",
       "      <td>wavs/fYocNaRmmDE&amp;list___1008__1015.npy</td>\n",
       "      <td>lekin tab woh safed thi ab woh mustard rangi t...</td>\n",
       "    </tr>\n",
       "    <tr>\n",
       "      <th>3</th>\n",
       "      <td>wavs/fYocNaRmmDE&amp;list___1015__1022.npy</td>\n",
       "      <td>vahi commrah tha lekin dewaron ka rang sarmie ...</td>\n",
       "    </tr>\n",
       "    <tr>\n",
       "      <th>4</th>\n",
       "      <td>wavs/fYocNaRmmDE&amp;list___1022__1029.npy</td>\n",
       "      <td>is ke hath se jadi naliyon main safed nahin ba...</td>\n",
       "    </tr>\n",
       "    <tr>\n",
       "      <th>...</th>\n",
       "      <td>...</td>\n",
       "      <td>...</td>\n",
       "    </tr>\n",
       "    <tr>\n",
       "      <th>115654</th>\n",
       "      <td>wavs/g-ZcuW4JOnE&amp;list___973__980.npy</td>\n",
       "      <td>bharosah tha woh sanbhal lay ga is lamhay khai...</td>\n",
       "    </tr>\n",
       "    <tr>\n",
       "      <th>115655</th>\n",
       "      <td>wavs/g-ZcuW4JOnE&amp;list___980__987.npy</td>\n",
       "      <td>ek sath aisi hai jas main har baat gunaah nahi...</td>\n",
       "    </tr>\n",
       "    <tr>\n",
       "      <th>115656</th>\n",
       "      <td>wavs/g-ZcuW4JOnE&amp;list___987__994.npy</td>\n",
       "      <td>diktar qasim ne apni kursi se uth kar khushdil...</td>\n",
       "    </tr>\n",
       "    <tr>\n",
       "      <th>115657</th>\n",
       "      <td>wavs/g-ZcuW4JOnE&amp;list___98__105.npy</td>\n",
       "      <td>jakday bethi rahi sab tareef is allah ki jas n...</td>\n",
       "    </tr>\n",
       "    <tr>\n",
       "      <th>115658</th>\n",
       "      <td>wavs/g-ZcuW4JOnE&amp;list___994__1001.npy</td>\n",
       "      <td>bhara sweater pahne chehray pah sanjida aur ba...</td>\n",
       "    </tr>\n",
       "  </tbody>\n",
       "</table>\n",
       "<p>115659 rows × 2 columns</p>\n",
       "</div>"
      ],
      "text/plain": [
       "                                             0  \\\n",
       "0             wavs/fYocNaRmmDE&list___0__7.npy   \n",
       "1       wavs/fYocNaRmmDE&list___1001__1008.npy   \n",
       "2       wavs/fYocNaRmmDE&list___1008__1015.npy   \n",
       "3       wavs/fYocNaRmmDE&list___1015__1022.npy   \n",
       "4       wavs/fYocNaRmmDE&list___1022__1029.npy   \n",
       "...                                        ...   \n",
       "115654    wavs/g-ZcuW4JOnE&list___973__980.npy   \n",
       "115655    wavs/g-ZcuW4JOnE&list___980__987.npy   \n",
       "115656    wavs/g-ZcuW4JOnE&list___987__994.npy   \n",
       "115657     wavs/g-ZcuW4JOnE&list___98__105.npy   \n",
       "115658   wavs/g-ZcuW4JOnE&list___994__1001.npy   \n",
       "\n",
       "                                                        1  \n",
       "0                                         alsalam alaikum  \n",
       "1       chhat wazeh hui yeh vahi chhat thi jo is ne pi...  \n",
       "2       lekin tab woh safed thi ab woh mustard rangi t...  \n",
       "3       vahi commrah tha lekin dewaron ka rang sarmie ...  \n",
       "4       is ke hath se jadi naliyon main safed nahin ba...  \n",
       "...                                                   ...  \n",
       "115654  bharosah tha woh sanbhal lay ga is lamhay khai...  \n",
       "115655  ek sath aisi hai jas main har baat gunaah nahi...  \n",
       "115656  diktar qasim ne apni kursi se uth kar khushdil...  \n",
       "115657  jakday bethi rahi sab tareef is allah ki jas n...  \n",
       "115658  bhara sweater pahne chehray pah sanjida aur ba...  \n",
       "\n",
       "[115659 rows x 2 columns]"
      ]
     },
     "execution_count": 19,
     "metadata": {},
     "output_type": "execute_result"
    }
   ],
   "source": [
    "df"
   ]
  },
  {
   "cell_type": "code",
   "execution_count": 32,
   "id": "bc95e751-9fd6-4cb1-b492-421561d6aba0",
   "metadata": {},
   "outputs": [],
   "source": [
    "df.to_csv('filelists/metadata_final.txt',sep='|',index=False,header=None)"
   ]
  },
  {
   "cell_type": "code",
   "execution_count": 26,
   "id": "a0a4968c-cbdc-4d52-99e3-d45ccc89bc71",
   "metadata": {},
   "outputs": [
    {
     "name": "stdout",
     "output_type": "stream",
     "text": [
      "wavs/02jSJVzkUyM&list___1673__1680.npy\n"
     ]
    }
   ],
   "source": [
    "for file in df[0]:\n",
    "    if not os.path.exists(file):\n",
    "        print(file)"
   ]
  },
  {
   "cell_type": "code",
   "execution_count": 29,
   "id": "d05d2a78-f009-4cdb-8328-3a3779b18d3e",
   "metadata": {},
   "outputs": [
    {
     "data": {
      "text/html": [
       "<div>\n",
       "<style scoped>\n",
       "    .dataframe tbody tr th:only-of-type {\n",
       "        vertical-align: middle;\n",
       "    }\n",
       "\n",
       "    .dataframe tbody tr th {\n",
       "        vertical-align: top;\n",
       "    }\n",
       "\n",
       "    .dataframe thead th {\n",
       "        text-align: right;\n",
       "    }\n",
       "</style>\n",
       "<table border=\"1\" class=\"dataframe\">\n",
       "  <thead>\n",
       "    <tr style=\"text-align: right;\">\n",
       "      <th></th>\n",
       "      <th>0</th>\n",
       "      <th>1</th>\n",
       "    </tr>\n",
       "  </thead>\n",
       "  <tbody>\n",
       "    <tr>\n",
       "      <th>37062</th>\n",
       "      <td>wavs/02jSJVzkUyM&amp;list___1673__1680.npy</td>\n",
       "      <td>khade nanay nanay se zeenay thay jin ki madad ...</td>\n",
       "    </tr>\n",
       "  </tbody>\n",
       "</table>\n",
       "</div>"
      ],
      "text/plain": [
       "                                            0  \\\n",
       "37062  wavs/02jSJVzkUyM&list___1673__1680.npy   \n",
       "\n",
       "                                                       1  \n",
       "37062  khade nanay nanay se zeenay thay jin ki madad ...  "
      ]
     },
     "execution_count": 29,
     "metadata": {},
     "output_type": "execute_result"
    }
   ],
   "source": [
    "df[df[0]=='wavs/02jSJVzkUyM&list___1673__1680.npy']"
   ]
  },
  {
   "cell_type": "code",
   "execution_count": 30,
   "id": "e0728a23-e77b-4fa8-b812-fad129b21d80",
   "metadata": {},
   "outputs": [],
   "source": [
    "df = df.drop(37062)"
   ]
  },
  {
   "cell_type": "code",
   "execution_count": 31,
   "id": "6d01b200-da2f-4b7e-b408-661caf9c6881",
   "metadata": {},
   "outputs": [
    {
     "data": {
      "text/html": [
       "<div>\n",
       "<style scoped>\n",
       "    .dataframe tbody tr th:only-of-type {\n",
       "        vertical-align: middle;\n",
       "    }\n",
       "\n",
       "    .dataframe tbody tr th {\n",
       "        vertical-align: top;\n",
       "    }\n",
       "\n",
       "    .dataframe thead th {\n",
       "        text-align: right;\n",
       "    }\n",
       "</style>\n",
       "<table border=\"1\" class=\"dataframe\">\n",
       "  <thead>\n",
       "    <tr style=\"text-align: right;\">\n",
       "      <th></th>\n",
       "      <th>0</th>\n",
       "      <th>1</th>\n",
       "    </tr>\n",
       "  </thead>\n",
       "  <tbody>\n",
       "  </tbody>\n",
       "</table>\n",
       "</div>"
      ],
      "text/plain": [
       "Empty DataFrame\n",
       "Columns: [0, 1]\n",
       "Index: []"
      ]
     },
     "execution_count": 31,
     "metadata": {},
     "output_type": "execute_result"
    }
   ],
   "source": [
    "df[df[0]=='wavs/02jSJVzkUyM&list___1673__1680.npy']"
   ]
  },
  {
   "cell_type": "code",
   "execution_count": 33,
   "id": "b12ec5ae-1d10-48e7-abbc-544c1b1d15ec",
   "metadata": {},
   "outputs": [
    {
     "data": {
      "text/html": [
       "<div>\n",
       "<style scoped>\n",
       "    .dataframe tbody tr th:only-of-type {\n",
       "        vertical-align: middle;\n",
       "    }\n",
       "\n",
       "    .dataframe tbody tr th {\n",
       "        vertical-align: top;\n",
       "    }\n",
       "\n",
       "    .dataframe thead th {\n",
       "        text-align: right;\n",
       "    }\n",
       "</style>\n",
       "<table border=\"1\" class=\"dataframe\">\n",
       "  <thead>\n",
       "    <tr style=\"text-align: right;\">\n",
       "      <th></th>\n",
       "      <th>0</th>\n",
       "      <th>1</th>\n",
       "    </tr>\n",
       "  </thead>\n",
       "  <tbody>\n",
       "    <tr>\n",
       "      <th>8761</th>\n",
       "      <td>wavs/xdZylwh-xhI&amp;list___4788__4795.npy</td>\n",
       "      <td>gi</td>\n",
       "    </tr>\n",
       "  </tbody>\n",
       "</table>\n",
       "</div>"
      ],
      "text/plain": [
       "                                           0   1\n",
       "8761  wavs/xdZylwh-xhI&list___4788__4795.npy  gi"
      ]
     },
     "execution_count": 33,
     "metadata": {},
     "output_type": "execute_result"
    }
   ],
   "source": [
    "df[df[0]=='wavs/xdZylwh-xhI&list___4788__4795.npy']"
   ]
  },
  {
   "cell_type": "code",
   "execution_count": 1,
   "id": "bcb22c2d-f91e-4989-b1b9-0d13512840d6",
   "metadata": {},
   "outputs": [],
   "source": [
    "import os"
   ]
  },
  {
   "cell_type": "code",
   "execution_count": 4,
   "id": "94bcb8e0-7ca1-4f51-bcd9-cd012cd7b7b5",
   "metadata": {},
   "outputs": [],
   "source": [
    "for file in os.listdir('wavs'):\n",
    "    if '.wav' in file:\n",
    "        os.remove(f'wavs/{file}')"
   ]
  },
  {
   "cell_type": "code",
   "execution_count": null,
   "id": "9d5f4a91-bbc4-4704-a323-82217761a4f7",
   "metadata": {},
   "outputs": [],
   "source": []
  }
 ],
 "metadata": {
  "kernelspec": {
   "display_name": "Python 3 (ipykernel)",
   "language": "python",
   "name": "python3"
  },
  "language_info": {
   "codemirror_mode": {
    "name": "ipython",
    "version": 3
   },
   "file_extension": ".py",
   "mimetype": "text/x-python",
   "name": "python",
   "nbconvert_exporter": "python",
   "pygments_lexer": "ipython3",
   "version": "3.11.0rc1"
  }
 },
 "nbformat": 4,
 "nbformat_minor": 5
}
